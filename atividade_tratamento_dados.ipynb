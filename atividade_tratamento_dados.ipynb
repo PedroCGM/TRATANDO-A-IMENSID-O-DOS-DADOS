{
  {
   "cell_type": "markdown",
   "id": "16d17ce2",
   "metadata": {},
   "source": [
    "### 📁 **1. Importar bibliotecas**"
   ]
  },
  {
   "cell_type": "code",
   "execution_count": null,
   "id": "8d2a2f9b",
   "metadata": {},
   "outputs": [],
   "source": [
    "import pandas as pd\n",
    "import numpy as np"
   ]
  },
  {
   "cell_type": "markdown",
   "id": "9a727cc2",
   "metadata": {},
   "source": [
    "### 📄 **2. Ler o CSV**"
   ]
  },
  {
   "cell_type": "code",
   "execution_count": null,
   "id": "7af494ad",
   "metadata": {},
   "outputs": [],
   "source": [
    "df = pd.read_csv('dados.csv', sep=';', engine='python')"
   ]
  },
  {
   "cell_type": "markdown",
   "id": "8ab9a6c1",
   "metadata": {},
   "source": [
    "### 🔍 **3. Verificar dados importados**"
   ]
  },
  {
   "cell_type": "code",
   "execution_count": null,
   "id": "111af233",
   "metadata": {},
   "outputs": [],
   "source": [
    "print(\"📊 Informações gerais do DataFrame original:\")\n",
    "print(df.info())\n",
    "\n",
    "print(\"\\n📌 Primeiras 5 linhas do DataFrame:\")\n",
    "print(df.head())\n",
    "\n",
    "print(\"\\n📌 Últimas 5 linhas do DataFrame:\")\n",
    "print(df.tail())"
   ]
  },
  {
   "cell_type": "markdown",
   "id": "63937d3f",
   "metadata": {},
   "source": [
    "### 📑 **4. Criar cópia do DataFrame**"
   ]
  },
  {
   "cell_type": "code",
   "execution_count": null,
   "id": "1cea0492",
   "metadata": {},
   "outputs": [],
   "source": [
    "df_copia = df.copy()"
   ]
  },
  {
   "cell_type": "markdown",
   "id": "d6350eb3",
   "metadata": {},
   "source": [
    "### 🧮 **5. Substituir nulos em 'Calories'**"
   ]
  },
  {
   "cell_type": "code",
   "execution_count": null,
   "id": "8ad79369",
   "metadata": {},
   "outputs": [],
   "source": [
    "df_copia['Calories'].fillna(0, inplace=True)\n",
    "\n",
    "print(\"\\n✅ Valores nulos em 'Calories' substituídos por 0:\")\n",
    "print(df_copia)"
   ]
  },
  {
   "cell_type": "markdown",
   "id": "ca240dcd",
   "metadata": {},
   "source": [
    "### 📆 **6. Substituir nulos em 'Date'**"
   ]
  },
  {
   "cell_type": "code",
   "execution_count": null,
   "id": "22b45e33",
   "metadata": {},
   "outputs": [],
   "source": [
    "df_copia['Date'].fillna('1900/01/01', inplace=True)\n",
    "\n",
    "print(\"\\n✅ Valores nulos em 'Date' substituídos por '1900/01/01':\")\n",
    "print(df_copia)"
   ]
  },
  {
   "cell_type": "markdown",
   "id": "35e9bd22",
   "metadata": {},
   "source": [
    "### ⚠️ **7. Tentar conversão para datetime (gera erro esperado)**"
   ]
  },
  {
   "cell_type": "code",
   "execution_count": null,
   "id": "9fbf6176",
   "metadata": {},
   "outputs": [],
   "source": [
    "try:\n",
    "    df_copia['Date'] = pd.to_datetime(df_copia['Date'], format='%Y/%m/%d')\n",
    "except Exception as e:\n",
    "    print(f\"\\n❌ Erro ao converter 'Date' para datetime:\\n{e}\")"
   ]
  },
  {
   "cell_type": "markdown",
   "id": "25c45a2e",
   "metadata": {},
   "source": [
    "### 🛠️ **8. Corrigir erros e converter corretamente**"
   ]
  },
  {
   "cell_type": "code",
   "execution_count": null,
   "id": "4112f0f8",
   "metadata": {},
   "outputs": [],
   "source": [
    "df_copia['Date'] = df_copia['Date'].replace('1900/01/01', np.nan)\n",
    "df_copia['Date'] = df_copia['Date'].replace('20201226', '2020/12/26')\n",
    "df_copia['Date'] = pd.to_datetime(df_copia['Date'], errors='coerce')\n",
    "\n",
    "print(\"\\n✅ Coluna 'Date' convertida para datetime com sucesso:\")\n",
    "print(df_copia)"
   ]
  },
  {
   "cell_type": "markdown",
   "id": "0076bcd9",
   "metadata": {},
   "source": [
    "### 🧹 **9. Remover registros nulos restantes**"
   ]
  },
  {
   "cell_type": "code",
   "execution_count": null,
   "id": "3a225b95",
   "metadata": {},
   "outputs": [],
   "source": [
    "df_copia.dropna(inplace=True)\n",
    "\n",
    "print(\"\\n✅ DataFrame final, com todos os dados tratados:\")\n",
    "print(df_copia)"
   ]
  },
  {
   "cell_type": "markdown",
   "id": "f44e5c06",
   "metadata": {},
   "source": [
    "### ℹ️ **10. Informações finais**"
   ]
  },
  {
   "cell_type": "code",
   "execution_count": null,
   "id": "3c56b326",
   "metadata": {},
   "outputs": [],
   "source": [
    "print(\"\\n📌 Informações do DataFrame final:\")\n",
    "print(df_copia.info())"
   ]
  }
 ],
 "metadata": {},
 "nbformat": 4,
 "nbformat_minor": 5
}
